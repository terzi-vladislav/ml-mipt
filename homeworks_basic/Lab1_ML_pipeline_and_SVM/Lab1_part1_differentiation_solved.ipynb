{
  "nbformat": 4,
  "nbformat_minor": 0,
  "metadata": {
    "kernelspec": {
      "display_name": "Python 3",
      "language": "python",
      "name": "python3"
    },
    "language_info": {
      "codemirror_mode": {
        "name": "ipython",
        "version": 3
      },
      "file_extension": ".py",
      "mimetype": "text/x-python",
      "name": "python",
      "nbconvert_exporter": "python",
      "pygments_lexer": "ipython3",
      "version": "3.7.6"
    },
    "colab": {
      "name": "Lab1_part1_differentiation.ipynb",
      "provenance": [],
      "collapsed_sections": []
    }
  },
  "cells": [
    {
      "cell_type": "markdown",
      "metadata": {
        "id": "UVd9ei6UAR1H",
        "colab_type": "text"
      },
      "source": [
        "*Credits: materials from this notebook belong to YSDA [Practical DL](https://github.com/yandexdataschool/Practical_DL) course. Special thanks for making them available online.*"
      ]
    },
    {
      "cell_type": "markdown",
      "metadata": {
        "id": "3IchGawGAR1K",
        "colab_type": "text"
      },
      "source": [
        "# Lab assignment №1, part 1\n",
        "\n",
        "This lab assignment consists of several parts. You are supposed to make some transformations, train some models, estimate the quality of the models and explain your results.\n",
        "\n",
        "Several comments:\n",
        "* Don't hesitate to ask questions, it's a good practice.\n",
        "* No private/public sharing, please. The copied assignments will be graded with 0 points.\n",
        "* Blocks of this lab will be graded separately."
      ]
    },
    {
      "cell_type": "markdown",
      "metadata": {
        "id": "JPB0qdvdAR1N",
        "colab_type": "text"
      },
      "source": [
        "## Part 1. Matrix differentiation"
      ]
    },
    {
      "cell_type": "markdown",
      "metadata": {
        "id": "q_7VTF8sAR1Q",
        "colab_type": "text"
      },
      "source": [
        "Since it easy to google every task please please please try to undestand what's going on. The \"just answer\" thing will be not counted, make sure to present derivation of your solution. It is absolutely OK if you found an answer on web then just exercise in $\\LaTeX$ copying it into here."
      ]
    },
    {
      "cell_type": "markdown",
      "metadata": {
        "id": "9dZVClqQAR1S",
        "colab_type": "text"
      },
      "source": [
        "Useful links: \n",
        "[1](http://www.machinelearning.ru/wiki/images/2/2a/Matrix-Gauss.pdf)\n",
        "[2](http://www.atmos.washington.edu/~dennis/MatrixCalculus.pdf)\n",
        "[3](http://cal.cs.illinois.edu/~johannes/research/matrix%20calculus.pdf)\n",
        "[4](http://research.microsoft.com/en-us/um/people/cmbishop/prml/index.htm)"
      ]
    },
    {
      "cell_type": "markdown",
      "metadata": {
        "id": "1V7AF9IQAR1U",
        "colab_type": "text"
      },
      "source": [
        "## ex. 1"
      ]
    },
    {
      "cell_type": "markdown",
      "metadata": {
        "id": "aSmrX3LnAR1Y",
        "colab_type": "text"
      },
      "source": [
        "$$  \n",
        "y = \\textbf{x}^T\\textbf{x},  \\quad \\textbf{x} \\in \\mathbb{R}^n\n",
        "$$"
      ]
    },
    {
      "cell_type": "markdown",
      "metadata": {
        "id": "p39VzxT8AR1a",
        "colab_type": "text"
      },
      "source": [
        "$$\n",
        "\\textbf{x}^T\\textbf{x} = \\sum_{i=1}^nx_i^2 \\Longrightarrow \\frac{\\partial \\textbf{x}^T\\textbf{x}}{\\partial x_i} = 2x_i\n",
        "$$\n",
        "\n",
        "$$\n",
        "\\frac{dy}{d\\textbf{x}} = 2\\textbf{x}\n",
        "$$ "
      ]
    },
    {
      "cell_type": "markdown",
      "metadata": {
        "id": "ul4XGwheAR1i",
        "colab_type": "text"
      },
      "source": [
        "## ex. 2"
      ]
    },
    {
      "cell_type": "markdown",
      "metadata": {
        "id": "ePhoGWC9AR1j",
        "colab_type": "text"
      },
      "source": [
        "$$ y = \\operatorname{tr}(AB) \\quad A,B \\in \\mathbb{R}^{n \\times n} $$ "
      ]
    },
    {
      "cell_type": "markdown",
      "metadata": {
        "id": "9a6QDA5HAR1j",
        "colab_type": "text"
      },
      "source": [
        "$$\n",
        "\\operatorname{tr}(AB) = \\operatorname{tr} \\left(\\left[\\begin{array}{c}\n",
        "\\textbf{a}_{1}^T\\\\\n",
        "\\vdots \\\\\n",
        "\\textbf{a}_{n}^T\n",
        "\\end{array}\\right]\\left[\\begin{array}{ccc}\n",
        "\\textbf{b}_{1} & \\cdots & \\textbf{b}_{n}\n",
        "\\end{array}\\right]\\right) = \\operatorname{tr} \\left(\\left [ \\begin{array}{ccc}\n",
        "\\textbf{a}_{1}^T\\textbf{b}_{1} & \\cdots & \\textbf{a}_{1}^T\\textbf{b}_{n} \\\\\n",
        "\\vdots & \\ddots & \\vdots \\\\\n",
        "\\textbf{a}_{n}^T\\textbf{b}_{1} & \\cdots & \\textbf{a}_{n}^T\\textbf{b}_{n}\n",
        "\\end{array} \n",
        "\\right]\\right) = \\sum_{i=1}^{m} a_{1 i} b_{i 1}+\\ldots+\\sum_{i=1}^{m} a_{n i} b_{i n} \\Longrightarrow \\frac{\\partial \\operatorname{tr}(AB)}{\\partial a_{ij}} = b_{ji}\n",
        "$$\n",
        "\n",
        "$$\n",
        "\\frac{dy}{dA} = \\frac{d\\operatorname{tr}(AB)}{dA} = B^T\n",
        "$$"
      ]
    },
    {
      "cell_type": "markdown",
      "metadata": {
        "id": "KtgT2TWIAR1r",
        "colab_type": "text"
      },
      "source": [
        "## ex. 3"
      ]
    },
    {
      "cell_type": "markdown",
      "metadata": {
        "id": "SQs_p-dGAR1t",
        "colab_type": "text"
      },
      "source": [
        "$$  \n",
        "y = \\textbf{x}^TA\\textbf{c} , \\quad A\\in \\mathbb{R}^{n \\times n}, \\textbf{x}\\in \\mathbb{R}^{n}, \\textbf{c}\\in \\mathbb{R}^{n} \n",
        "$$"
      ]
    },
    {
      "cell_type": "markdown",
      "metadata": {
        "id": "dflxNXW5AR1u",
        "colab_type": "text"
      },
      "source": [
        "$$\n",
        "\\textbf{x}^TA\\textbf{c} = \\textbf{x}^T \\times \\left[ \\begin{array}{c}\n",
        "\\textbf{a}_1^Tc\\\\\n",
        "\\vdots\\\\\n",
        "\\textbf{a}_n^Tc\n",
        "\\end{array}\n",
        "\\right] = \\sum_{i=1}^nx_i\\textbf{a}_i^Tc \\Longrightarrow \\frac{\\partial x^TAc}{x_i} = \\textbf{a}_i^Tc \n",
        "$$\n",
        "$$\n",
        "\\frac{dy}{d\\textbf{x}} = A\\textbf{c}\n",
        "$$"
      ]
    },
    {
      "cell_type": "markdown",
      "metadata": {
        "id": "Y1FS3iSEAR1w",
        "colab_type": "text"
      },
      "source": [
        "$$\n",
        "\\textbf{x}^TA\\textbf{c} = x_1 \\sum_{i=1}^na_{1i}c_i + \\dots + x_n \\sum_{i=1}^na_{ni}c_i \\Longrightarrow \\frac{\\partial x^TA\\textbf{c}}{a_{ij}} = x_ic_j\n",
        "$$\n",
        "$$\n",
        "\\frac{dy}{dA} = \\textbf{x}\\textbf{c}^T\n",
        "$$ "
      ]
    },
    {
      "cell_type": "markdown",
      "metadata": {
        "id": "IrKZYV_oAR1y",
        "colab_type": "text"
      },
      "source": [
        "Hint for the latter (one of the ways): use *ex. 2* result and the fact \n",
        "$$\n",
        "\\operatorname{tr} (ABC) = \\operatorname{tr} (CAB)\n",
        "$$"
      ]
    },
    {
      "cell_type": "markdown",
      "metadata": {
        "id": "Ihcxii7sAR18",
        "colab_type": "text"
      },
      "source": [
        "## ex. 4"
      ]
    },
    {
      "cell_type": "markdown",
      "metadata": {
        "id": "i9OEgbI-AR19",
        "colab_type": "text"
      },
      "source": [
        "Classic matrix factorization example. Given matrix $X$ you need to find $A$, $S$ to approximate $X$. This can be done by simple gradient descent iteratively alternating $A$ and $S$ updates.\n",
        "$$\n",
        "J = || X - AS ||_F^2  , \\quad A\\in \\mathbb{R}^{N \\times R} , \\quad S\\in \\mathbb{R}^{R \\times M}\n",
        "$$\n",
        "\n",
        "$$\n",
        "\\operatorname{tr}\\left(\\left[\n",
        "  \\begin{array}{ccc}\n",
        "  x_{11} - \\textbf{a}_1^T\\textbf{s}_1 & \\cdots & x_{1n} - \\textbf{a}_1^T\\textbf{s}_n \\\\\n",
        "  \\vdots & \\ddots & \\vdots \\\\\n",
        "  x_{n1} - \\textbf{a}_n^T\\textbf{s}_1 & \\cdots & x_{nn} - \\textbf{a}_n^T\\textbf{s}_1\n",
        "  \\end{array}\n",
        "\\right]\\left[\n",
        "  \\begin{array}{ccc}\n",
        "  x_{11} - \\textbf{a}_1^T\\textbf{s}_1 & \\cdots & x_{n1} - \\textbf{a}_n^T\\textbf{s}_1 \\\\\n",
        "  \\vdots & \\ddots & \\vdots \\\\\n",
        "  x_{1n} - \\textbf{a}_1^T\\textbf{s}_n & \\cdots & x_{nn} - \\textbf{a}_n^T\\textbf{s}_1\n",
        "  \\end{array}\n",
        "\\right]\n",
        "\\right)=\n",
        "$$\n",
        "\n",
        "$$\n",
        "= \\left[\\left(x_{11} - \\textbf{a}_1^T\\textbf{s}_1\\right)^2 + \\dots + \\left(x_{1n} - \\textbf{a}_1^T\\textbf{s}_n\\right)^2 \\right] + \\dots + \\left[\\left(x_{n1} - \\textbf{a}_n^T\\textbf{s}_1\\right)^2 + \\dots + \\left(x_{nn} - \\textbf{a}_n^T\\textbf{s}_n\\right)^2 \\right] \\Longrightarrow\n",
        "$$\n",
        "\n",
        "$$\n",
        "\\frac{\\partial J}{\\partial s_{ij}} = -2(x_{1i}-\\textbf{a}_1^Ts_i)a_{ji} - \\dots - 2(x_{ni}-\\textbf{a}_n^Ts_i)a_{ji} = -2[(A^TX - A^TAS)]_{ij}\n",
        "$$\n",
        "\n",
        "$$\n",
        "\\frac{dJ}{dS} = -2(A^TX - A^TAS)\n",
        "$$\n",
        "\n",
        "You may use one of the following approaches:"
      ]
    },
    {
      "cell_type": "markdown",
      "metadata": {
        "id": "EDzhM1OxAR1-",
        "colab_type": "text"
      },
      "source": [
        "#### First approach\n",
        "Using ex.2 and the fact:\n",
        "$$\n",
        "|| X ||_F^2 = tr(XX^T) \n",
        "$$ \n",
        "it is easy to derive gradients (you can find it in one of the refs). "
      ]
    },
    {
      "cell_type": "markdown",
      "metadata": {
        "collapsed": true,
        "id": "auiTxbBjAR1-",
        "colab_type": "text"
      },
      "source": [
        "#### Second approach\n",
        "You can use *slightly different techniques* if they suits you. Take a look at this derivation:\n",
        "<img src=\"/content/grad.png\">\n",
        "(excerpt from [Handbook of blind source separation, Jutten, page 517](https://books.google.ru/books?id=PTbj03bYH6kC&printsec=frontcover&dq=Handbook+of+Blind+Source+Separation&hl=en&sa=X&ved=0ahUKEwi-q_apiJDLAhULvXIKHVXJDWcQ6AEIHDAA#v=onepage&q=Handbook%20of%20Blind%20Source%20Separation&f=false), open for better picture)."
      ]
    },
    {
      "cell_type": "markdown",
      "metadata": {
        "collapsed": true,
        "id": "r4HKi47pAR2A",
        "colab_type": "text"
      },
      "source": [
        "#### Third approach\n",
        "And finally we can use chain rule! \n",
        "let $ F = AS $ \n",
        "\n",
        "**Find**\n",
        "$$\n",
        "\\frac{dJ}{dF} =  \n",
        "$$ \n",
        "and \n",
        "$$\n",
        "\\frac{dF}{dS} =  \n",
        "$$ \n",
        "(the shape should be $ NM \\times RM )$.\n",
        "\n",
        "Now it is easy do get desired gradients:\n",
        "$$\n",
        "\\frac{dJ}{dS} =  \n",
        "$$ "
      ]
    },
    {
      "cell_type": "code",
      "metadata": {
        "id": "unyWvEzQAR2B",
        "colab_type": "code",
        "colab": {}
      },
      "source": [
        ""
      ],
      "execution_count": 0,
      "outputs": []
    }
  ]
}